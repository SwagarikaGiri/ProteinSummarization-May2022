{
 "cells": [
  {
   "cell_type": "markdown",
   "id": "97269fd5",
   "metadata": {},
   "source": [
    "*BART uses both BERT (bidirectional encoder) and GPT (left to the right decoder) architecture with seq2seq translation. BART achieves the state of the art results in the summarization task.*"
   ]
  },
  {
   "cell_type": "code",
   "execution_count": 2,
   "id": "c378bf3d",
   "metadata": {},
   "outputs": [],
   "source": [
    " from transformers import pipeline"
   ]
  },
  {
   "cell_type": "code",
   "execution_count": 3,
   "id": "0079ae5e",
   "metadata": {},
   "outputs": [],
   "source": [
    "summarizer = pipeline('summarization', model='facebook/bart-large-cnn', tokenizer='facebook/bart-large-cnn')"
   ]
  },
  {
   "cell_type": "code",
   "execution_count": 4,
   "id": "e1e960c1",
   "metadata": {},
   "outputs": [],
   "source": [
    "import pandas as pd\n",
    "df=pd.read_csv('ProteinAndItsDescriptionCombinedTab.tab', sep='\\t')"
   ]
  },
  {
   "cell_type": "code",
   "execution_count": 5,
   "id": "1a0efd2a",
   "metadata": {},
   "outputs": [
    {
     "data": {
      "text/html": [
       "<div>\n",
       "<style scoped>\n",
       "    .dataframe tbody tr th:only-of-type {\n",
       "        vertical-align: middle;\n",
       "    }\n",
       "\n",
       "    .dataframe tbody tr th {\n",
       "        vertical-align: top;\n",
       "    }\n",
       "\n",
       "    .dataframe thead th {\n",
       "        text-align: right;\n",
       "    }\n",
       "</style>\n",
       "<table border=\"1\" class=\"dataframe\">\n",
       "  <thead>\n",
       "    <tr style=\"text-align: right;\">\n",
       "      <th></th>\n",
       "      <th>Goterms</th>\n",
       "      <th>GO Description</th>\n",
       "      <th>Uniprot Description</th>\n",
       "    </tr>\n",
       "    <tr>\n",
       "      <th>Protein</th>\n",
       "      <th></th>\n",
       "      <th></th>\n",
       "      <th></th>\n",
       "    </tr>\n",
       "  </thead>\n",
       "  <tbody>\n",
       "    <tr>\n",
       "      <th>P31946</th>\n",
       "      <td>GO:0004860; GO:0005737; GO:0005774; GO:0005829...</td>\n",
       "      <td>Binds to and stops, prevents or reduces the ac...</td>\n",
       "      <td>FUNCTION: Adapter protein implicated in the re...</td>\n",
       "    </tr>\n",
       "    <tr>\n",
       "      <th>Q9CQV8</th>\n",
       "      <td>GO:0004860; GO:0005634; GO:0005737; GO:0005829...</td>\n",
       "      <td>Binds to and stops, prevents or reduces the ac...</td>\n",
       "      <td>FUNCTION: Adapter protein implicated in the re...</td>\n",
       "    </tr>\n",
       "    <tr>\n",
       "      <th>P62258</th>\n",
       "      <td>GO:0000165; GO:0001764; GO:0003064; GO:0003723...</td>\n",
       "      <td>An intracellular protein kinase cascade contai...</td>\n",
       "      <td>FUNCTION: Adapter protein implicated in the re...</td>\n",
       "    </tr>\n",
       "    <tr>\n",
       "      <th>Q04917</th>\n",
       "      <td>GO:0002028; GO:0003779; GO:0005159; GO:0005737...</td>\n",
       "      <td>Any process that modulates the frequency, rate...</td>\n",
       "      <td>FUNCTION: Adapter protein implicated in the re...</td>\n",
       "    </tr>\n",
       "    <tr>\n",
       "      <th>P68510</th>\n",
       "      <td>GO:0002028; GO:0003779; GO:0005737; GO:0005829...</td>\n",
       "      <td>Any process that modulates the frequency, rate...</td>\n",
       "      <td>FUNCTION: Adapter protein implicated in the re...</td>\n",
       "    </tr>\n",
       "    <tr>\n",
       "      <th>...</th>\n",
       "      <td>...</td>\n",
       "      <td>...</td>\n",
       "      <td>...</td>\n",
       "    </tr>\n",
       "    <tr>\n",
       "      <th>P0AC51</th>\n",
       "      <td>GO:0000976; GO:0001217; GO:0003700; GO:0005829...</td>\n",
       "      <td>Binding to a specific sequence of DNA that is ...</td>\n",
       "      <td>FUNCTION: Acts as a negative controlling eleme...</td>\n",
       "    </tr>\n",
       "    <tr>\n",
       "      <th>P9WN85</th>\n",
       "      <td>GO:0000976; GO:0001217; GO:0003700; GO:0005829...</td>\n",
       "      <td>Binding to a specific sequence of DNA that is ...</td>\n",
       "      <td>FUNCTION: Global transcriptional regulator inv...</td>\n",
       "    </tr>\n",
       "    <tr>\n",
       "      <th>Q9H900</th>\n",
       "      <td>GO:0000776; GO:0005829; GO:0007094; GO:0034501...</td>\n",
       "      <td>A multisubunit complex that is located at the ...</td>\n",
       "      <td>FUNCTION: Essential component of the mitotic c...</td>\n",
       "    </tr>\n",
       "    <tr>\n",
       "      <th>Q9GT24</th>\n",
       "      <td>GO:0000003; GO:0000278; GO:0004672; GO:0004674...</td>\n",
       "      <td>The production of new individuals that contain...</td>\n",
       "      <td>FUNCTION: Protein kinase that plays a central ...</td>\n",
       "    </tr>\n",
       "    <tr>\n",
       "      <th>O73557</th>\n",
       "      <td>GO:0003723; GO:0008270; GO:0016020; GO:0020002...</td>\n",
       "      <td>Binding to an RNA molecule or a portion thereo...</td>\n",
       "      <td>FUNCTION: Plays a crucial role in virion assem...</td>\n",
       "    </tr>\n",
       "  </tbody>\n",
       "</table>\n",
       "<p>11090 rows × 3 columns</p>\n",
       "</div>"
      ],
      "text/plain": [
       "                                                   Goterms  \\\n",
       "Protein                                                      \n",
       "P31946   GO:0004860; GO:0005737; GO:0005774; GO:0005829...   \n",
       "Q9CQV8   GO:0004860; GO:0005634; GO:0005737; GO:0005829...   \n",
       "P62258   GO:0000165; GO:0001764; GO:0003064; GO:0003723...   \n",
       "Q04917   GO:0002028; GO:0003779; GO:0005159; GO:0005737...   \n",
       "P68510   GO:0002028; GO:0003779; GO:0005737; GO:0005829...   \n",
       "...                                                    ...   \n",
       "P0AC51   GO:0000976; GO:0001217; GO:0003700; GO:0005829...   \n",
       "P9WN85   GO:0000976; GO:0001217; GO:0003700; GO:0005829...   \n",
       "Q9H900   GO:0000776; GO:0005829; GO:0007094; GO:0034501...   \n",
       "Q9GT24   GO:0000003; GO:0000278; GO:0004672; GO:0004674...   \n",
       "O73557   GO:0003723; GO:0008270; GO:0016020; GO:0020002...   \n",
       "\n",
       "                                            GO Description  \\\n",
       "Protein                                                      \n",
       "P31946   Binds to and stops, prevents or reduces the ac...   \n",
       "Q9CQV8   Binds to and stops, prevents or reduces the ac...   \n",
       "P62258   An intracellular protein kinase cascade contai...   \n",
       "Q04917   Any process that modulates the frequency, rate...   \n",
       "P68510   Any process that modulates the frequency, rate...   \n",
       "...                                                    ...   \n",
       "P0AC51   Binding to a specific sequence of DNA that is ...   \n",
       "P9WN85   Binding to a specific sequence of DNA that is ...   \n",
       "Q9H900   A multisubunit complex that is located at the ...   \n",
       "Q9GT24   The production of new individuals that contain...   \n",
       "O73557   Binding to an RNA molecule or a portion thereo...   \n",
       "\n",
       "                                       Uniprot Description  \n",
       "Protein                                                     \n",
       "P31946   FUNCTION: Adapter protein implicated in the re...  \n",
       "Q9CQV8   FUNCTION: Adapter protein implicated in the re...  \n",
       "P62258   FUNCTION: Adapter protein implicated in the re...  \n",
       "Q04917   FUNCTION: Adapter protein implicated in the re...  \n",
       "P68510   FUNCTION: Adapter protein implicated in the re...  \n",
       "...                                                    ...  \n",
       "P0AC51   FUNCTION: Acts as a negative controlling eleme...  \n",
       "P9WN85   FUNCTION: Global transcriptional regulator inv...  \n",
       "Q9H900   FUNCTION: Essential component of the mitotic c...  \n",
       "Q9GT24   FUNCTION: Protein kinase that plays a central ...  \n",
       "O73557   FUNCTION: Plays a crucial role in virion assem...  \n",
       "\n",
       "[11090 rows x 3 columns]"
      ]
     },
     "execution_count": 5,
     "metadata": {},
     "output_type": "execute_result"
    }
   ],
   "source": [
    "dfnew = df.set_index('Protein')\n",
    "dfnew"
   ]
  },
  {
   "cell_type": "code",
   "execution_count": 6,
   "id": "67e7974d",
   "metadata": {},
   "outputs": [],
   "source": [
    "df_des = dfnew[['GO Description']]"
   ]
  },
  {
   "cell_type": "code",
   "execution_count": 10,
   "id": "8491cf3e",
   "metadata": {},
   "outputs": [
    {
     "data": {
      "text/plain": [
       "'Binding to an RNA molecule or a portion thereof. [GOC:jl, GOC:mah]Binding to a zinc ion (Zn). []A lipid bilayer along with all the proteins and protein complexes embedded in it an attached to it. [GOC:dos, GOC:mah, ISBN:0815316194]The plasma membrane surrounding a host cell. [GOC:mb]Viral budding which uses a host ESCRT protein complex, or complexes, to mediate the budding process. [UniProtKB-KW:KW-1187, VZ:1536]The host cell cytoplasm situated near, or occurring around, the host nucleus. [GOC:rph]A viral budding that starts with formation of a membrane curvature in the host plasma membrane. [GOC:bf, ISBN:0072370319, PMID:9394621, VZ:1947]'"
      ]
     },
     "execution_count": 10,
     "metadata": {},
     "output_type": "execute_result"
    }
   ],
   "source": [
    "text = df_des.loc['O73557']['GO Description']\n",
    "text"
   ]
  },
  {
   "cell_type": "code",
   "execution_count": 12,
   "id": "cca01db7",
   "metadata": {},
   "outputs": [
    {
     "data": {
      "text/plain": [
       "[{'summary_text': 'Viral budding uses a host ESCRT protein complex, or complexes, to mediate the budding process. A viral budding that starts with formation of a membrane curvature in the host plasma membrane.'}]"
      ]
     },
     "execution_count": 12,
     "metadata": {},
     "output_type": "execute_result"
    }
   ],
   "source": [
    "summarizer(text, min_length = round(0.3 * len(text.split(' '))), max_length = round(0.5 * len(text.split(' '))), do_sample=False)\n"
   ]
  },
  {
   "cell_type": "code",
   "execution_count": null,
   "id": "428ff21a",
   "metadata": {},
   "outputs": [],
   "source": []
  },
  {
   "cell_type": "code",
   "execution_count": null,
   "id": "988c733c",
   "metadata": {},
   "outputs": [],
   "source": []
  }
 ],
 "metadata": {
  "kernelspec": {
   "display_name": "Python 3",
   "language": "python",
   "name": "python3"
  },
  "language_info": {
   "codemirror_mode": {
    "name": "ipython",
    "version": 3
   },
   "file_extension": ".py",
   "mimetype": "text/x-python",
   "name": "python",
   "nbconvert_exporter": "python",
   "pygments_lexer": "ipython3",
   "version": "3.8.8"
  }
 },
 "nbformat": 4,
 "nbformat_minor": 5
}
